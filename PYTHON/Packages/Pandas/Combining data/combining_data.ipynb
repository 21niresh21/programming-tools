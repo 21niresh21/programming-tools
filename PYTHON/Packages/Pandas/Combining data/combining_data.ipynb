{
 "cells": [
  {
   "cell_type": "code",
   "execution_count": 2,
   "id": "626edcf1",
   "metadata": {},
   "outputs": [],
   "source": [
    "import numpy as np\n",
    "import pandas as pd"
   ]
  },
  {
   "cell_type": "code",
   "execution_count": 16,
   "id": "287076e1",
   "metadata": {},
   "outputs": [],
   "source": [
    "s1 = pd.Series(['a1','b1','c1','d1'])\n",
    "s2 = pd.Series(['a2','b2','c2'])"
   ]
  },
  {
   "cell_type": "code",
   "execution_count": 17,
   "id": "6c05562c",
   "metadata": {},
   "outputs": [
    {
     "data": {
      "text/plain": [
       "0    a1\n",
       "1    b1\n",
       "2    c1\n",
       "3    d1\n",
       "dtype: object"
      ]
     },
     "execution_count": 17,
     "metadata": {},
     "output_type": "execute_result"
    }
   ],
   "source": [
    "s1"
   ]
  },
  {
   "cell_type": "code",
   "execution_count": 18,
   "id": "e41d3901",
   "metadata": {},
   "outputs": [
    {
     "data": {
      "text/plain": [
       "0    a2\n",
       "1    b2\n",
       "2    c2\n",
       "dtype: object"
      ]
     },
     "execution_count": 18,
     "metadata": {},
     "output_type": "execute_result"
    }
   ],
   "source": [
    "s2"
   ]
  },
  {
   "cell_type": "markdown",
   "id": "6ea6e0db",
   "metadata": {},
   "source": [
    "# concat()"
   ]
  },
  {
   "cell_type": "code",
   "execution_count": 19,
   "id": "3ef7dfb3",
   "metadata": {},
   "outputs": [
    {
     "data": {
      "text/html": [
       "<div>\n",
       "<style scoped>\n",
       "    .dataframe tbody tr th:only-of-type {\n",
       "        vertical-align: middle;\n",
       "    }\n",
       "\n",
       "    .dataframe tbody tr th {\n",
       "        vertical-align: top;\n",
       "    }\n",
       "\n",
       "    .dataframe thead th {\n",
       "        text-align: right;\n",
       "    }\n",
       "</style>\n",
       "<table border=\"1\" class=\"dataframe\">\n",
       "  <thead>\n",
       "    <tr style=\"text-align: right;\">\n",
       "      <th></th>\n",
       "      <th>0</th>\n",
       "      <th>1</th>\n",
       "    </tr>\n",
       "  </thead>\n",
       "  <tbody>\n",
       "    <tr>\n",
       "      <th>0</th>\n",
       "      <td>a1</td>\n",
       "      <td>a2</td>\n",
       "    </tr>\n",
       "    <tr>\n",
       "      <th>1</th>\n",
       "      <td>b1</td>\n",
       "      <td>b2</td>\n",
       "    </tr>\n",
       "    <tr>\n",
       "      <th>2</th>\n",
       "      <td>c1</td>\n",
       "      <td>c2</td>\n",
       "    </tr>\n",
       "    <tr>\n",
       "      <th>3</th>\n",
       "      <td>d1</td>\n",
       "      <td>NaN</td>\n",
       "    </tr>\n",
       "  </tbody>\n",
       "</table>\n",
       "</div>"
      ],
      "text/plain": [
       "    0    1\n",
       "0  a1   a2\n",
       "1  b1   b2\n",
       "2  c1   c2\n",
       "3  d1  NaN"
      ]
     },
     "execution_count": 19,
     "metadata": {},
     "output_type": "execute_result"
    }
   ],
   "source": [
    "pd.concat([s1,s2],axis=1)"
   ]
  },
  {
   "cell_type": "code",
   "execution_count": 9,
   "id": "d8430597",
   "metadata": {},
   "outputs": [
    {
     "data": {
      "text/plain": [
       "0    a1\n",
       "1    b1\n",
       "2    c1\n",
       "0    a2\n",
       "1    b2\n",
       "2    c2\n",
       "dtype: object"
      ]
     },
     "execution_count": 9,
     "metadata": {},
     "output_type": "execute_result"
    }
   ],
   "source": [
    "pd.concat([s1,s2],axis=0)"
   ]
  },
  {
   "cell_type": "code",
   "execution_count": 10,
   "id": "b358638d",
   "metadata": {},
   "outputs": [
    {
     "data": {
      "text/plain": [
       "0    a1\n",
       "1    b1\n",
       "2    c1\n",
       "3    a2\n",
       "4    b2\n",
       "5    c2\n",
       "dtype: object"
      ]
     },
     "execution_count": 10,
     "metadata": {},
     "output_type": "execute_result"
    }
   ],
   "source": [
    "pd.concat([s1,s2],ignore_index = True)"
   ]
  },
  {
   "cell_type": "code",
   "execution_count": 23,
   "id": "d3b9f6c7",
   "metadata": {},
   "outputs": [
    {
     "data": {
      "text/plain": [
       "series_1  0    a1\n",
       "          1    b1\n",
       "          2    c1\n",
       "          3    d1\n",
       "series_2  0    a2\n",
       "          1    b2\n",
       "          2    c2\n",
       "dtype: object"
      ]
     },
     "execution_count": 23,
     "metadata": {},
     "output_type": "execute_result"
    }
   ],
   "source": [
    "# hierarchical index\n",
    "pd.concat([s1,s2], keys = ['series_1','series_2'])"
   ]
  },
  {
   "cell_type": "code",
   "execution_count": 24,
   "id": "931bb569",
   "metadata": {},
   "outputs": [
    {
     "data": {
      "text/plain": [
       "outer index  inner index\n",
       "series_1     0              a1\n",
       "             1              b1\n",
       "             2              c1\n",
       "             3              d1\n",
       "series_2     0              a2\n",
       "             1              b2\n",
       "             2              c2\n",
       "dtype: object"
      ]
     },
     "execution_count": 24,
     "metadata": {},
     "output_type": "execute_result"
    }
   ],
   "source": [
    "pd.concat([s1,s2], keys = ['series_1','series_2'], \n",
    "          names = ['outer index','inner index'])"
   ]
  },
  {
   "cell_type": "code",
   "execution_count": null,
   "id": "6bbd1b8d",
   "metadata": {},
   "outputs": [],
   "source": []
  }
 ],
 "metadata": {
  "kernelspec": {
   "display_name": "Python 3 (ipykernel)",
   "language": "python",
   "name": "python3"
  },
  "language_info": {
   "codemirror_mode": {
    "name": "ipython",
    "version": 3
   },
   "file_extension": ".py",
   "mimetype": "text/x-python",
   "name": "python",
   "nbconvert_exporter": "python",
   "pygments_lexer": "ipython3",
   "version": "3.9.13"
  }
 },
 "nbformat": 4,
 "nbformat_minor": 5
}
